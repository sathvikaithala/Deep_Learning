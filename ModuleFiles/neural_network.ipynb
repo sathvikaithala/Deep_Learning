{
 "cells": [
  {
   "cell_type": "code",
   "execution_count": 1,
   "metadata": {},
   "outputs": [],
   "source": [
    "# 19.2.2\n",
    "\n",
    "# Import our dependencies\n",
    "import pandas as pd\n",
    "import matplotlib as plt\n",
    "from sklearn.datasets import make_blobs\n",
    "import sklearn as skl\n",
    "import tensorflow as tf"
   ]
  },
  {
   "cell_type": "markdown",
   "metadata": {},
   "source": [
    "Once we have our required libraries imported into our notebook, we can create the dummy data using Scikit-learn’s make_blobs method. The make_blobs is used to create sample values and contains many parameters that change the shape and values of the sample dataset. For our purposes, we’ll use the make_blobs method to create 1,000 samples with two features (also known as our x- and y-axis values) that are linearly separable into two groups."
   ]
  },
  {
   "cell_type": "code",
   "execution_count": 3,
   "metadata": {},
   "outputs": [
    {
     "data": {
      "text/plain": [
       "<matplotlib.axes._subplots.AxesSubplot at 0x1a427a08d0>"
      ]
     },
     "execution_count": 3,
     "metadata": {},
     "output_type": "execute_result"
    },
    {
     "data": {
      "image/png": "[encoded data removed]",
      "text/plain": [
       "<Figure size 432x288 with 2 Axes>"
      ]
     },
     "metadata": {
      "needs_background": "light"
     },
     "output_type": "display_data"
    }
   ],
   "source": [
    "# Generate dummy dataset\n",
    "X, y = make_blobs(n_samples=1000, centers=2, n_features=2, random_state=78)\n",
    "\n",
    "# Creating a DataFrame with the dummy data\n",
    "df = pd.DataFrame(X, columns=[\"Feature 1\", \"Feature 2\"])\n",
    "df[\"Target\"] = y\n",
    "\n",
    "# Plotting the dummy data\n",
    "df.plot.scatter(x=\"Feature 1\", y=\"Feature 2\", c=\"Target\", colormap=\"winter\")"
   ]
  },
  {
   "cell_type": "markdown",
   "metadata": {},
   "source": [
    "Once we have our dummy data generated, we’ll split our data into training and test datasets using Scikit-learn’s train_test_split method. "
   ]
  },
  {
   "cell_type": "code",
   "execution_count": 4,
   "metadata": {},
   "outputs": [],
   "source": [
    "# Use sklearn to split dataset\n",
    "from sklearn.model_selection import train_test_split\n",
    "X_train, X_test, y_train, y_test = train_test_split(X, y, random_state=78)"
   ]
  },
  {
   "cell_type": "markdown",
   "metadata": {},
   "source": [
    "Now that we have our training data, we need to prepare the dataset for our neural network model. As with any machine learning algorithm, it is crucial to normalize or standardize our numerical variables to ensure that our neural network does not focus on outliers and can apply proper weights to each input. In most cases, the more that input variables are normalized to the same scale, the more stable the neural network model is, and the better the neural network model will generalize."
   ]
  },
  {
   "cell_type": "code",
   "execution_count": 5,
   "metadata": {},
   "outputs": [],
   "source": [
    "# Create scaler instance\n",
    "X_scaler = skl.preprocessing.StandardScaler()\n",
    "\n",
    "# Fit the scaler\n",
    "X_scaler.fit(X_train)\n",
    "\n",
    "# Scale the data\n",
    "X_train_scaled = X_scaler.transform(X_train)\n",
    "X_test_scaled = X_scaler.transform(X_test)"
   ]
  },
  {
   "cell_type": "markdown",
   "metadata": {},
   "source": [
    "Finally, we have our data ready for our first neural network model! To create the neural network in our notebook, first we must create our Sequential model."
   ]
  },
  {
   "cell_type": "code",
   "execution_count": 6,
   "metadata": {},
   "outputs": [],
   "source": [
    "# Create the Keras Sequential model\n",
    "nn_model = tf.keras.models.Sequential()"
   ]
  },
  {
   "cell_type": "markdown",
   "metadata": {},
   "source": [
    "The nn_model object will store the entire architecture of our neural network model. Our next step is to add our first layer, which will contain our inputs and a hidden layer of neurons"
   ]
  },
  {
   "cell_type": "markdown",
   "metadata": {},
   "source": [
    "The Keras module does not have specific classes for input, hidden, and output layers. All layers are built using the Dense class, and the input and first hidden layer are always built in the same instance\n",
    "\n",
    "As we learned earlier, we can add layers to our Sequential model using Keras’ Dense class. For our first layer, we need to define a few parameters:\n",
    "\n",
    "The input_dim parameter indicates how many inputs will be in the model (in this case two).\n",
    "The units parameter indicates how many neurons we want in the hidden layer (in this case one).\n",
    "The activation parameter indicates which activation function to use. We’ll use the ReLU activation function to allow our hidden layer to identify and train on nonlinear relationships in the dataset."
   ]
  },
  {
   "cell_type": "code",
   "execution_count": 7,
   "metadata": {},
   "outputs": [],
   "source": [
    "# Add our first Dense layer, including the input layer\n",
    "nn_model.add(tf.keras.layers.Dense(units=1, activation=\"relu\", input_dim=2))"
   ]
  },
  {
   "cell_type": "markdown",
   "metadata": {},
   "source": [
    "Once again, we’ll use the Dense class to tell our Sequential model what to do with the data. This time, we only need to supply the number of output neurons. For a classification model, we only want a yes or no binary decision; therefore, we only need one output neuron. In our previous layer, we used a ReLU activation function to enable nonlinear relationships; however, for our classification output, we want to use a sigmoid activation function to produce a probability output."
   ]
  },
  {
   "cell_type": "code",
   "execution_count": 8,
   "metadata": {},
   "outputs": [],
   "source": [
    "# Add the output layer that uses a probability activation function\n",
    "nn_model.add(tf.keras.layers.Dense(units=1, activation=\"sigmoid\"))"
   ]
  },
  {
   "cell_type": "code",
   "execution_count": 9,
   "metadata": {},
   "outputs": [
    {
     "name": "stdout",
     "output_type": "stream",
     "text": [
      "Model: \"sequential\"\n",
      "_________________________________________________________________\n",
      "Layer (type)                 Output Shape              Param #   \n",
      "=================================================================\n",
      "dense (Dense)                (None, 1)                 3         \n",
      "_________________________________________________________________\n",
      "dense_1 (Dense)              (None, 1)                 2         \n",
      "=================================================================\n",
      "Total params: 5\n",
      "Trainable params: 5\n",
      "Non-trainable params: 0\n",
      "_________________________________________________________________\n"
     ]
    }
   ],
   "source": [
    "# Check the structure of the Sequential model\n",
    "nn_model.summary()"
   ]
  },
  {
   "cell_type": "markdown",
   "metadata": {},
   "source": [
    "Note that the number of parameters in each layer does not equal the number of neurons we defined in the notebook. Remember, every layer has one additional input known as our bias term (or weighted constant).\n",
    "\n"
   ]
  },
  {
   "cell_type": "markdown",
   "metadata": {},
   "source": [
    "Now that we have our layers defined, we have to inform the model how it should train using the input data. The process of informing the model how it should learn and train is called compiling the model.\n",
    "\n",
    "Depending on the function of the neural network, we’ll have to compile the neural network using a specific optimization function and loss metric. The optimization function shapes and molds a neural network model while it is being trained to ensure that it performs to the best of its ability. The loss metric is used by machine learning algorithms to score the performance of the model through each iteration and epoch by evaluating the inaccuracy of a single input. To enhance the performance of our classification neural network, we’ll use the adam optimizer, which uses a gradient descent approach to ensure that the algorithm will not get stuck on weaker classifying variables and features. As for the loss function, we’ll use binary_crossentropy, which is specifically designed to evaluate a binary classification model."
   ]
  },
  {
   "cell_type": "markdown",
   "metadata": {},
   "source": [
    "In addition to the optimization function and loss metric, we’ll also add a more reader-friendly evaluation metric, which measures the quality of the machine learning model. There are two main types of evaluation metrics—the model predictive accuracy and model mean squared error (MSE). We use accuracy for classification models and mse for regression models. For model predictive accuracy, the higher the number the better, whereas for regression models, MSE should reduce to zero"
   ]
  },
  {
   "cell_type": "code",
   "execution_count": 10,
   "metadata": {},
   "outputs": [],
   "source": [
    "# Compile the Sequential model together and customize metrics\n",
    "nn_model.compile(loss=\"binary_crossentropy\", optimizer=\"adam\", metrics=[\"accuracy\"])\n"
   ]
  },
  {
   "cell_type": "markdown",
   "metadata": {},
   "source": [
    "At last, our Sequential neural network is modeled and compiled, so now we can move onto training/fitting our model to the dummy data. To train/fit our Keras model, we’ll use the fit method and provide the x training values and y training values, as well as the number of epochs. As we tested earlier in the TensorFlow Playground, the neural network binary classification model reached optimal performance at around 100 epochs. Since we designed our Sequential model to match the TensorFlow Playground simulation, we should expect similar performance."
   ]
  },
  {
   "cell_type": "code",
   "execution_count": 11,
   "metadata": {},
   "outputs": [
    {
     "name": "stdout",
     "output_type": "stream",
     "text": [
      "Train on 750 samples\n",
      "Epoch 1/100\n",
      "750/750 [==============================] - 1s 2ms/sample - loss: 0.6169 - accuracy: 0.9067\n",
      "Epoch 2/100\n",
      "750/750 [==============================] - 0s 120us/sample - loss: 0.6067 - accuracy: 0.9960\n",
      "Epoch 3/100\n",
      "750/750 [==============================] - 0s 112us/sample - loss: 0.5957 - accuracy: 0.9960\n",
      "Epoch 4/100\n",
      "750/750 [==============================] - 0s 116us/sample - loss: 0.5841 - accuracy: 0.9960\n",
      "Epoch 5/100\n",
      "750/750 [==============================] - 0s 113us/sample - loss: 0.5720 - accuracy: 0.9960\n",
      "Epoch 6/100\n",
      "750/750 [==============================] - 0s 121us/sample - loss: 0.5595 - accuracy: 0.9960\n",
      "Epoch 7/100\n",
      "750/750 [==============================] - 0s 119us/sample - loss: 0.5466 - accuracy: 0.9960\n",
      "Epoch 8/100\n",
      "750/750 [==============================] - 0s 125us/sample - loss: 0.5335 - accuracy: 0.9960\n",
      "Epoch 9/100\n",
      "750/750 [==============================] - 0s 124us/sample - loss: 0.5203 - accuracy: 0.9960\n",
      "Epoch 10/100\n",
      "750/750 [==============================] - 0s 123us/sample - loss: 0.5069 - accuracy: 0.9960\n",
      "Epoch 11/100\n",
      "750/750 [==============================] - 0s 119us/sample - loss: 0.4935 - accuracy: 0.9960\n",
      "Epoch 12/100\n",
      "750/750 [==============================] - 0s 123us/sample - loss: 0.4802 - accuracy: 0.9960\n",
      "Epoch 13/100\n",
      "750/750 [==============================] - 0s 143us/sample - loss: 0.4670 - accuracy: 0.9960\n",
      "Epoch 14/100\n",
      "750/750 [==============================] - 0s 145us/sample - loss: 0.4539 - accuracy: 0.9960\n",
      "Epoch 15/100\n",
      "750/750 [==============================] - 0s 117us/sample - loss: 0.4411 - accuracy: 0.9973\n",
      "Epoch 16/100\n",
      "750/750 [==============================] - 0s 114us/sample - loss: 0.4285 - accuracy: 0.9973\n",
      "Epoch 17/100\n",
      "750/750 [==============================] - 0s 100us/sample - loss: 0.4162 - accuracy: 0.9987\n",
      "Epoch 18/100\n",
      "750/750 [==============================] - 0s 129us/sample - loss: 0.4043 - accuracy: 0.9987\n",
      "Epoch 19/100\n",
      "750/750 [==============================] - 0s 130us/sample - loss: 0.3927 - accuracy: 0.9987\n",
      "Epoch 20/100\n",
      "750/750 [==============================] - 0s 129us/sample - loss: 0.3814 - accuracy: 1.0000\n",
      "Epoch 21/100\n",
      "750/750 [==============================] - 0s 127us/sample - loss: 0.3706 - accuracy: 1.0000\n",
      "Epoch 22/100\n",
      "750/750 [==============================] - 0s 140us/sample - loss: 0.3601 - accuracy: 1.0000\n",
      "Epoch 23/100\n",
      "750/750 [==============================] - 0s 151us/sample - loss: 0.3499 - accuracy: 1.0000\n",
      "Epoch 24/100\n",
      "750/750 [==============================] - 0s 152us/sample - loss: 0.3402 - accuracy: 1.0000\n",
      "Epoch 25/100\n",
      "750/750 [==============================] - 0s 152us/sample - loss: 0.3308 - accuracy: 1.0000\n",
      "Epoch 26/100\n",
      "750/750 [==============================] - 0s 183us/sample - loss: 0.3217 - accuracy: 1.0000\n",
      "Epoch 27/100\n",
      "750/750 [==============================] - 0s 195us/sample - loss: 0.3130 - accuracy: 1.0000\n",
      "Epoch 28/100\n",
      "750/750 [==============================] - 0s 209us/sample - loss: 0.3046 - accuracy: 1.0000\n",
      "Epoch 29/100\n",
      "750/750 [==============================] - 0s 164us/sample - loss: 0.2965 - accuracy: 1.0000\n",
      "Epoch 30/100\n",
      "750/750 [==============================] - 0s 196us/sample - loss: 0.2887 - accuracy: 1.0000\n",
      "Epoch 31/100\n",
      "750/750 [==============================] - 0s 124us/sample - loss: 0.2811 - accuracy: 1.0000\n",
      "Epoch 32/100\n",
      "750/750 [==============================] - 0s 204us/sample - loss: 0.2739 - accuracy: 1.0000\n",
      "Epoch 33/100\n",
      "750/750 [==============================] - 0s 200us/sample - loss: 0.2669 - accuracy: 1.0000\n",
      "Epoch 34/100\n",
      "750/750 [==============================] - 0s 138us/sample - loss: 0.2602 - accuracy: 1.0000\n",
      "Epoch 35/100\n",
      "750/750 [==============================] - 0s 190us/sample - loss: 0.2537 - accuracy: 1.0000\n",
      "Epoch 36/100\n",
      "750/750 [==============================] - 0s 133us/sample - loss: 0.2474 - accuracy: 1.0000\n",
      "Epoch 37/100\n",
      "750/750 [==============================] - 0s 131us/sample - loss: 0.2414 - accuracy: 1.0000\n",
      "Epoch 38/100\n",
      "750/750 [==============================] - 0s 126us/sample - loss: 0.2355 - accuracy: 1.0000\n",
      "Epoch 39/100\n",
      "750/750 [==============================] - 0s 124us/sample - loss: 0.2299 - accuracy: 1.0000\n",
      "Epoch 40/100\n",
      "750/750 [==============================] - 0s 145us/sample - loss: 0.2245 - accuracy: 1.0000\n",
      "Epoch 41/100\n",
      "750/750 [==============================] - 0s 133us/sample - loss: 0.2192 - accuracy: 1.0000\n",
      "Epoch 42/100\n",
      "750/750 [==============================] - 0s 141us/sample - loss: 0.2141 - accuracy: 1.0000\n",
      "Epoch 43/100\n",
      "750/750 [==============================] - 0s 119us/sample - loss: 0.2092 - accuracy: 1.0000\n",
      "Epoch 44/100\n",
      "750/750 [==============================] - 0s 133us/sample - loss: 0.2045 - accuracy: 1.0000\n",
      "Epoch 45/100\n",
      "750/750 [==============================] - 0s 132us/sample - loss: 0.1999 - accuracy: 1.0000\n",
      "Epoch 46/100\n",
      "750/750 [==============================] - 0s 162us/sample - loss: 0.1955 - accuracy: 1.0000\n",
      "Epoch 47/100\n",
      "750/750 [==============================] - 0s 118us/sample - loss: 0.1912 - accuracy: 1.0000\n",
      "Epoch 48/100\n",
      "750/750 [==============================] - ETA: 0s - loss: 0.1965 - accuracy: 1.00 - 0s 129us/sample - loss: 0.1870 - accuracy: 1.0000\n",
      "Epoch 49/100\n",
      "750/750 [==============================] - 0s 254us/sample - loss: 0.1829 - accuracy: 1.0000\n",
      "Epoch 50/100\n",
      "750/750 [==============================] - 0s 182us/sample - loss: 0.1791 - accuracy: 1.0000\n",
      "Epoch 51/100\n",
      "750/750 [==============================] - 0s 130us/sample - loss: 0.1752 - accuracy: 1.0000\n",
      "Epoch 52/100\n",
      "750/750 [==============================] - 0s 147us/sample - loss: 0.1716 - accuracy: 1.0000\n",
      "Epoch 53/100\n",
      "750/750 [==============================] - 0s 114us/sample - loss: 0.1680 - accuracy: 1.0000\n",
      "Epoch 54/100\n",
      "750/750 [==============================] - 0s 126us/sample - loss: 0.1645 - accuracy: 1.0000\n",
      "Epoch 55/100\n",
      "750/750 [==============================] - 0s 120us/sample - loss: 0.1611 - accuracy: 1.0000\n",
      "Epoch 56/100\n",
      "750/750 [==============================] - 0s 148us/sample - loss: 0.1579 - accuracy: 1.0000\n",
      "Epoch 57/100\n",
      "750/750 [==============================] - 0s 165us/sample - loss: 0.1547 - accuracy: 1.0000\n",
      "Epoch 58/100\n",
      "750/750 [==============================] - 0s 161us/sample - loss: 0.1516 - accuracy: 1.0000\n",
      "Epoch 59/100\n",
      "750/750 [==============================] - 0s 132us/sample - loss: 0.1486 - accuracy: 1.0000\n",
      "Epoch 60/100\n",
      "750/750 [==============================] - 0s 146us/sample - loss: 0.1456 - accuracy: 1.0000\n",
      "Epoch 61/100\n",
      "750/750 [==============================] - 0s 115us/sample - loss: 0.1428 - accuracy: 1.0000\n",
      "Epoch 62/100\n",
      "750/750 [==============================] - 0s 127us/sample - loss: 0.1400 - accuracy: 1.0000\n",
      "Epoch 63/100\n",
      "750/750 [==============================] - 0s 113us/sample - loss: 0.1373 - accuracy: 1.0000\n",
      "Epoch 64/100\n",
      "750/750 [==============================] - 0s 117us/sample - loss: 0.1347 - accuracy: 1.0000\n",
      "Epoch 65/100\n",
      "750/750 [==============================] - 0s 128us/sample - loss: 0.1322 - accuracy: 1.0000\n",
      "Epoch 66/100\n",
      "750/750 [==============================] - 0s 109us/sample - loss: 0.1297 - accuracy: 1.0000\n",
      "Epoch 67/100\n",
      "750/750 [==============================] - 0s 125us/sample - loss: 0.1272 - accuracy: 1.0000\n",
      "Epoch 68/100\n",
      "750/750 [==============================] - 0s 120us/sample - loss: 0.1249 - accuracy: 1.0000\n",
      "Epoch 69/100\n",
      "750/750 [==============================] - 0s 127us/sample - loss: 0.1226 - accuracy: 1.0000\n",
      "Epoch 70/100\n",
      "750/750 [==============================] - 0s 108us/sample - loss: 0.1203 - accuracy: 1.0000\n",
      "Epoch 71/100\n",
      "750/750 [==============================] - 0s 168us/sample - loss: 0.1181 - accuracy: 1.0000\n",
      "Epoch 72/100\n",
      "750/750 [==============================] - 0s 161us/sample - loss: 0.1160 - accuracy: 1.0000\n",
      "Epoch 73/100\n",
      "750/750 [==============================] - 0s 196us/sample - loss: 0.1139 - accuracy: 1.0000\n",
      "Epoch 74/100\n",
      "750/750 [==============================] - 0s 180us/sample - loss: 0.1119 - accuracy: 1.0000\n",
      "Epoch 75/100\n",
      "750/750 [==============================] - 0s 135us/sample - loss: 0.1099 - accuracy: 1.0000\n",
      "Epoch 76/100\n",
      "750/750 [==============================] - 0s 132us/sample - loss: 0.1080 - accuracy: 1.0000\n",
      "Epoch 77/100\n"
     ]
    },
    {
     "name": "stdout",
     "output_type": "stream",
     "text": [
      "750/750 [==============================] - 0s 117us/sample - loss: 0.1061 - accuracy: 1.0000\n",
      "Epoch 78/100\n",
      "750/750 [==============================] - 0s 129us/sample - loss: 0.1042 - accuracy: 1.0000\n",
      "Epoch 79/100\n",
      "750/750 [==============================] - 0s 120us/sample - loss: 0.1024 - accuracy: 1.0000\n",
      "Epoch 80/100\n",
      "750/750 [==============================] - 0s 110us/sample - loss: 0.1007 - accuracy: 1.0000\n",
      "Epoch 81/100\n",
      "750/750 [==============================] - 0s 103us/sample - loss: 0.0990 - accuracy: 1.0000\n",
      "Epoch 82/100\n",
      "750/750 [==============================] - 0s 110us/sample - loss: 0.0973 - accuracy: 1.0000\n",
      "Epoch 83/100\n",
      "750/750 [==============================] - 0s 158us/sample - loss: 0.0957 - accuracy: 1.0000\n",
      "Epoch 84/100\n",
      "750/750 [==============================] - 0s 183us/sample - loss: 0.0941 - accuracy: 1.0000\n",
      "Epoch 85/100\n",
      "750/750 [==============================] - 0s 118us/sample - loss: 0.0925 - accuracy: 1.0000\n",
      "Epoch 86/100\n",
      "750/750 [==============================] - 0s 101us/sample - loss: 0.0910 - accuracy: 1.0000\n",
      "Epoch 87/100\n",
      "750/750 [==============================] - 0s 144us/sample - loss: 0.0895 - accuracy: 1.0000\n",
      "Epoch 88/100\n",
      "750/750 [==============================] - 0s 191us/sample - loss: 0.0880 - accuracy: 1.0000\n",
      "Epoch 89/100\n",
      "750/750 [==============================] - 0s 157us/sample - loss: 0.0866 - accuracy: 1.0000\n",
      "Epoch 90/100\n",
      "750/750 [==============================] - 0s 153us/sample - loss: 0.0852 - accuracy: 1.0000\n",
      "Epoch 91/100\n",
      "750/750 [==============================] - 0s 124us/sample - loss: 0.0839 - accuracy: 1.0000\n",
      "Epoch 92/100\n",
      "750/750 [==============================] - 0s 144us/sample - loss: 0.0825 - accuracy: 1.0000\n",
      "Epoch 93/100\n",
      "750/750 [==============================] - 0s 197us/sample - loss: 0.0812 - accuracy: 1.0000\n",
      "Epoch 94/100\n",
      "750/750 [==============================] - 0s 148us/sample - loss: 0.0799 - accuracy: 1.0000\n",
      "Epoch 95/100\n",
      "750/750 [==============================] - 0s 174us/sample - loss: 0.0787 - accuracy: 1.0000\n",
      "Epoch 96/100\n",
      "750/750 [==============================] - 0s 203us/sample - loss: 0.0774 - accuracy: 1.0000\n",
      "Epoch 97/100\n",
      "750/750 [==============================] - 0s 126us/sample - loss: 0.0762 - accuracy: 1.0000\n",
      "Epoch 98/100\n",
      "750/750 [==============================] - 0s 102us/sample - loss: 0.0751 - accuracy: 1.0000\n",
      "Epoch 99/100\n",
      "750/750 [==============================] - 0s 141us/sample - loss: 0.0739 - accuracy: 1.0000\n",
      "Epoch 100/100\n",
      "750/750 [==============================] - 0s 229us/sample - loss: 0.0728 - accuracy: 1.0000\n"
     ]
    }
   ],
   "source": [
    "# Fit the model to the training data\n",
    "fit_model = nn_model.fit(X_train_scaled, y_train, epochs=100)"
   ]
  },
  {
   "cell_type": "markdown",
   "metadata": {},
   "source": [
    "Looking at the model training output, we know that the loss metric was 0.07 and the predictive accuracy is 1.0. This means that although our model performance had more loss than the simulation data, the model correctly classifies all of our training data, which is sufficient for our needs.\n",
    "\n",
    "Under the hood, the neural network will select random weights to start training the model, so that each and every time we create a neural network, the model will be different. However, due to the adam optimizer, our model’s end performance should be very similar, regardless of the loss function.\n",
    "\n",
    "When training completes, the model object stores the loss and accuracy metrics across all epochs, which we can use to visualize the training progress. For example, if we wanted to visualize our model’s loss over the full 100 epochs, we can run the following code in our notebooks:"
   ]
  },
  {
   "cell_type": "code",
   "execution_count": 12,
   "metadata": {},
   "outputs": [
    {
     "data": {
      "text/plain": [
       "<matplotlib.axes._subplots.AxesSubplot at 0x1a4348b2d0>"
      ]
     },
     "execution_count": 12,
     "metadata": {},
     "output_type": "execute_result"
    },
    {
     "data": {
      "image/png": "[encoded data removed]",
      "text/plain": [
       "<Figure size 432x288 with 1 Axes>"
      ]
     },
     "metadata": {
      "needs_background": "light"
     },
     "output_type": "display_data"
    }
   ],
   "source": [
    "# Create a DataFrame containing training history\n",
    "history_df = pd.DataFrame(fit_model.history, index=range(1,len(fit_model.history[\"loss\"])+1))\n",
    "\n",
    "# Plot the loss\n",
    "history_df.plot(y=\"loss\")"
   ]
  },
  {
   "cell_type": "code",
   "execution_count": 13,
   "metadata": {},
   "outputs": [
    {
     "data": {
      "text/plain": [
       "<matplotlib.axes._subplots.AxesSubplot at 0x1a4376ed90>"
      ]
     },
     "execution_count": 13,
     "metadata": {},
     "output_type": "execute_result"
    },
    {
     "data": {
      "image/png": "[encoded data removed]",
      "text/plain": [
       "<Figure size 432x288 with 1 Axes>"
      ]
     },
     "metadata": {
      "needs_background": "light"
     },
     "output_type": "display_data"
    }
   ],
   "source": [
    "# Plot the accuracy\n",
    "history_df.plot(y=\"accuracy\")"
   ]
  },
  {
   "cell_type": "markdown",
   "metadata": {},
   "source": [
    "Remember, our neural network consisted of a single hidden layer with one neuron—if we were to increase the number of neurons in the hidden layer, the neural network would have been able to fit the training data even faster!\n",
    "\n",
    "Now that our model has been properly trained, we must evaluate model performance using the test data. Testing a neural network model in TensorFlow is very similar to testing a machine learning model in Scikit-learn. For our purposes, we’ll use the evaluate method and print the testing loss and accuracy values."
   ]
  },
  {
   "cell_type": "code",
   "execution_count": 14,
   "metadata": {},
   "outputs": [
    {
     "name": "stdout",
     "output_type": "stream",
     "text": [
      "250/1 - 0s - loss: 0.0746 - accuracy: 1.0000\n",
      "Loss: 0.06774611717462539, Accuracy: 1.0\n"
     ]
    }
   ],
   "source": [
    "# Evaluate the model using the test data\n",
    "model_loss, model_accuracy = nn_model.evaluate(X_test_scaled,y_test,verbose=2)\n",
    "print(f\"Loss: {model_loss}, Accuracy: {model_accuracy}\")"
   ]
  },
  {
   "cell_type": "markdown",
   "metadata": {},
   "source": [
    "Looking at the performance metrics from the model, the neural network was able to correctly classify each of the points in the test data. In other words, the model was able to correctly classify data it was not trained on 100% of the time. Although perfect model performance is ideal, more complex datasets and models may not be able to achieve 100% accuracy. Therefore, it is important to establish model performance thresholds before designing any machine learning model. Depending on the type of data and the use case, we may have to recreate and retrain a model using different parameters, different training/test data, or even look to use a different model entirely.\n",
    "\n"
   ]
  },
  {
   "cell_type": "markdown",
   "metadata": {},
   "source": [
    "Now that we have a trained neural network model and we have verified its performance using a test dataset, we can apply this model to novel datasets and predict the classification of a data point. In our Sequential model, we can use the appropriately named predict_classes method to generate predictions on new data."
   ]
  },
  {
   "cell_type": "code",
   "execution_count": 15,
   "metadata": {},
   "outputs": [
    {
     "data": {
      "text/plain": [
       "array([[0],\n",
       "       [1],\n",
       "       [0],\n",
       "       [1],\n",
       "       [0],\n",
       "       [0],\n",
       "       [1],\n",
       "       [1],\n",
       "       [1],\n",
       "       [0]], dtype=int32)"
      ]
     },
     "execution_count": 15,
     "metadata": {},
     "output_type": "execute_result"
    }
   ],
   "source": [
    "# Predict the classification of a new set of blob data\n",
    "new_X, new_Y = make_blobs(n_samples=10, centers=2, n_features=2, random_state=78)\n",
    "new_X_scaled = X_scaler.transform(new_X)\n",
    "nn_model.predict_classes(new_X_scaled)"
   ]
  },
  {
   "cell_type": "markdown",
   "metadata": {},
   "source": [
    "19.2.4\n",
    "\n",
    "Now that we have designed a basic single-neuron, single-layer model, trained the model, and evaluated its performance using a test dataset, we are ready to start testing the limits of the basic neural network. As previously mentioned, simple linear regression and singular perceptron models work really well as a binary classifier when the data is linearly separable. But what about nonlinear data? How does our basic neural network model behave when data becomes more complicated?\n",
    "\n",
    "To test this behavior, let’s generate some new dummy data. This time we’ll generate some nonlinear moon-shaped data using Scikit-learn’s make_moons method and visualize it using Pandas and Matplotlib."
   ]
  },
  {
   "cell_type": "code",
   "execution_count": 16,
   "metadata": {},
   "outputs": [
    {
     "data": {
      "text/plain": [
       "<matplotlib.axes._subplots.AxesSubplot at 0x1a43b44950>"
      ]
     },
     "execution_count": 16,
     "metadata": {},
     "output_type": "execute_result"
    },
    {
     "data": {
      "image/png": "[encoded data removed]",
      "text/plain": [
       "<Figure size 432x288 with 2 Axes>"
      ]
     },
     "metadata": {
      "needs_background": "light"
     },
     "output_type": "display_data"
    }
   ],
   "source": [
    "from sklearn.datasets import make_moons\n",
    "\n",
    "# Creating dummy nonlinear data\n",
    "X_moons, y_moons = make_moons(n_samples=1000, noise=0.08, random_state=78)\n",
    "\n",
    "# Transforming y_moons to a vertical vector\n",
    "y_moons = y_moons.reshape(-1, 1)\n",
    "\n",
    "# Creating a DataFrame to plot the nonlinear dummy data\n",
    "df_moons = pd.DataFrame(X_moons, columns=[\"Feature 1\", \"Feature 2\"])\n",
    "df_moons[\"Target\"] = y_moons\n",
    "\n",
    "# Plot the nonlinear dummy data\n",
    "df_moons.plot.scatter(x=\"Feature 1\",y=\"Feature 2\", c=\"Target\",colormap=\"winter\")"
   ]
  },
  {
   "cell_type": "code",
   "execution_count": 17,
   "metadata": {},
   "outputs": [],
   "source": [
    "# Create training and testing sets\n",
    "X_moon_train, X_moon_test, y_moon_train, y_moon_test = train_test_split(\n",
    "    X_moons, y_moons, random_state=78\n",
    ")\n",
    "\n",
    "# Create the scaler instance\n",
    "X_moon_scaler = skl.preprocessing.StandardScaler()\n",
    "\n",
    "# Fit the scaler\n",
    "X_moon_scaler.fit(X_moon_train)\n",
    "\n",
    "# Scale the data\n",
    "X_moon_train_scaled = X_moon_scaler.transform(X_moon_train)\n",
    "X_moon_test_scaled = X_moon_scaler.transform(X_moon_test)"
   ]
  },
  {
   "cell_type": "code",
   "execution_count": 18,
   "metadata": {},
   "outputs": [
    {
     "name": "stdout",
     "output_type": "stream",
     "text": [
      "Train on 750 samples\n",
      "Epoch 1/100\n",
      "750/750 [==============================] - 0s 210us/sample - loss: 1.1137 - accuracy: 0.4627\n",
      "Epoch 2/100\n",
      "750/750 [==============================] - 0s 123us/sample - loss: 0.9789 - accuracy: 0.4853\n",
      "Epoch 3/100\n",
      "750/750 [==============================] - 0s 136us/sample - loss: 0.8937 - accuracy: 0.5040\n",
      "Epoch 4/100\n",
      "750/750 [==============================] - 0s 225us/sample - loss: 0.8328 - accuracy: 0.5253\n",
      "Epoch 5/100\n",
      "750/750 [==============================] - 0s 245us/sample - loss: 0.7906 - accuracy: 0.5453\n",
      "Epoch 6/100\n",
      "750/750 [==============================] - 0s 199us/sample - loss: 0.7553 - accuracy: 0.5627\n",
      "Epoch 7/100\n",
      "750/750 [==============================] - 0s 222us/sample - loss: 0.7264 - accuracy: 0.5747\n",
      "Epoch 8/100\n",
      "750/750 [==============================] - 0s 210us/sample - loss: 0.7016 - accuracy: 0.5853\n",
      "Epoch 9/100\n",
      "750/750 [==============================] - 0s 332us/sample - loss: 0.6797 - accuracy: 0.5933\n",
      "Epoch 10/100\n",
      "750/750 [==============================] - 0s 130us/sample - loss: 0.6597 - accuracy: 0.5987\n",
      "Epoch 11/100\n",
      "750/750 [==============================] - 0s 138us/sample - loss: 0.6416 - accuracy: 0.6080\n",
      "Epoch 12/100\n",
      "750/750 [==============================] - 0s 161us/sample - loss: 0.6249 - accuracy: 0.6173\n",
      "Epoch 13/100\n",
      "750/750 [==============================] - 0s 132us/sample - loss: 0.6095 - accuracy: 0.6227\n",
      "Epoch 14/100\n",
      "750/750 [==============================] - 0s 92us/sample - loss: 0.5949 - accuracy: 0.6320\n",
      "Epoch 15/100\n",
      "750/750 [==============================] - 0s 194us/sample - loss: 0.5812 - accuracy: 0.6347\n",
      "Epoch 16/100\n",
      "750/750 [==============================] - 0s 179us/sample - loss: 0.5688 - accuracy: 0.6453\n",
      "Epoch 17/100\n",
      "750/750 [==============================] - 0s 119us/sample - loss: 0.5570 - accuracy: 0.6533\n",
      "Epoch 18/100\n",
      "750/750 [==============================] - 0s 139us/sample - loss: 0.5459 - accuracy: 0.6587\n",
      "Epoch 19/100\n",
      "750/750 [==============================] - 0s 100us/sample - loss: 0.5352 - accuracy: 0.6693\n",
      "Epoch 20/100\n",
      "750/750 [==============================] - 0s 95us/sample - loss: 0.5254 - accuracy: 0.6773\n",
      "Epoch 21/100\n",
      "750/750 [==============================] - 0s 84us/sample - loss: 0.5161 - accuracy: 0.6813\n",
      "Epoch 22/100\n",
      "750/750 [==============================] - 0s 79us/sample - loss: 0.5073 - accuracy: 0.6853\n",
      "Epoch 23/100\n",
      "750/750 [==============================] - 0s 83us/sample - loss: 0.4987 - accuracy: 0.6920\n",
      "Epoch 24/100\n",
      "750/750 [==============================] - 0s 91us/sample - loss: 0.4907 - accuracy: 0.6960\n",
      "Epoch 25/100\n",
      "750/750 [==============================] - 0s 79us/sample - loss: 0.4829 - accuracy: 0.7000\n",
      "Epoch 26/100\n",
      "750/750 [==============================] - 0s 82us/sample - loss: 0.4755 - accuracy: 0.7067\n",
      "Epoch 27/100\n",
      "750/750 [==============================] - 0s 86us/sample - loss: 0.4680 - accuracy: 0.7147\n",
      "Epoch 28/100\n",
      "750/750 [==============================] - 0s 113us/sample - loss: 0.4610 - accuracy: 0.7213\n",
      "Epoch 29/100\n",
      "750/750 [==============================] - 0s 140us/sample - loss: 0.4542 - accuracy: 0.7253\n",
      "Epoch 30/100\n",
      "750/750 [==============================] - 0s 167us/sample - loss: 0.4477 - accuracy: 0.7320\n",
      "Epoch 31/100\n",
      "750/750 [==============================] - 0s 177us/sample - loss: 0.4412 - accuracy: 0.7413\n",
      "Epoch 32/100\n",
      "750/750 [==============================] - 0s 79us/sample - loss: 0.4351 - accuracy: 0.7493\n",
      "Epoch 33/100\n",
      "750/750 [==============================] - 0s 82us/sample - loss: 0.4289 - accuracy: 0.7520\n",
      "Epoch 34/100\n",
      "750/750 [==============================] - 0s 95us/sample - loss: 0.4230 - accuracy: 0.7573\n",
      "Epoch 35/100\n",
      "750/750 [==============================] - 0s 82us/sample - loss: 0.4172 - accuracy: 0.7653\n",
      "Epoch 36/100\n",
      "750/750 [==============================] - 0s 143us/sample - loss: 0.4116 - accuracy: 0.7720\n",
      "Epoch 37/100\n",
      "750/750 [==============================] - 0s 141us/sample - loss: 0.4061 - accuracy: 0.7773\n",
      "Epoch 38/100\n",
      "750/750 [==============================] - 0s 117us/sample - loss: 0.4008 - accuracy: 0.7840\n",
      "Epoch 39/100\n",
      "750/750 [==============================] - 0s 84us/sample - loss: 0.3956 - accuracy: 0.7840\n",
      "Epoch 40/100\n",
      "750/750 [==============================] - 0s 84us/sample - loss: 0.3905 - accuracy: 0.7853\n",
      "Epoch 41/100\n",
      "750/750 [==============================] - 0s 83us/sample - loss: 0.3855 - accuracy: 0.7867\n",
      "Epoch 42/100\n",
      "750/750 [==============================] - 0s 83us/sample - loss: 0.3806 - accuracy: 0.7920\n",
      "Epoch 43/100\n",
      "750/750 [==============================] - 0s 94us/sample - loss: 0.3759 - accuracy: 0.7947\n",
      "Epoch 44/100\n",
      "750/750 [==============================] - 0s 81us/sample - loss: 0.3713 - accuracy: 0.7947\n",
      "Epoch 45/100\n",
      "750/750 [==============================] - 0s 79us/sample - loss: 0.3670 - accuracy: 0.8000\n",
      "Epoch 46/100\n",
      "750/750 [==============================] - 0s 85us/sample - loss: 0.3629 - accuracy: 0.8053\n",
      "Epoch 47/100\n",
      "750/750 [==============================] - 0s 87us/sample - loss: 0.3588 - accuracy: 0.8067\n",
      "Epoch 48/100\n",
      "750/750 [==============================] - 0s 92us/sample - loss: 0.3549 - accuracy: 0.8120\n",
      "Epoch 49/100\n",
      "750/750 [==============================] - 0s 139us/sample - loss: 0.3514 - accuracy: 0.8147\n",
      "Epoch 50/100\n",
      "750/750 [==============================] - 0s 107us/sample - loss: 0.3477 - accuracy: 0.8187\n",
      "Epoch 51/100\n",
      "750/750 [==============================] - 0s 140us/sample - loss: 0.3444 - accuracy: 0.8213\n",
      "Epoch 52/100\n",
      "750/750 [==============================] - 0s 122us/sample - loss: 0.3411 - accuracy: 0.8253\n",
      "Epoch 53/100\n",
      "750/750 [==============================] - 0s 98us/sample - loss: 0.3380 - accuracy: 0.8333\n",
      "Epoch 54/100\n",
      "750/750 [==============================] - 0s 141us/sample - loss: 0.3351 - accuracy: 0.8347\n",
      "Epoch 55/100\n",
      "750/750 [==============================] - 0s 149us/sample - loss: 0.3321 - accuracy: 0.8373\n",
      "Epoch 56/100\n",
      "750/750 [==============================] - 0s 80us/sample - loss: 0.3294 - accuracy: 0.8387\n",
      "Epoch 57/100\n",
      "750/750 [==============================] - 0s 77us/sample - loss: 0.3267 - accuracy: 0.8413\n",
      "Epoch 58/100\n",
      "750/750 [==============================] - 0s 80us/sample - loss: 0.3241 - accuracy: 0.8453\n",
      "Epoch 59/100\n",
      "750/750 [==============================] - 0s 81us/sample - loss: 0.3215 - accuracy: 0.8493\n",
      "Epoch 60/100\n",
      "750/750 [==============================] - 0s 114us/sample - loss: 0.3191 - accuracy: 0.8507\n",
      "Epoch 61/100\n",
      "750/750 [==============================] - 0s 289us/sample - loss: 0.3168 - accuracy: 0.8560\n",
      "Epoch 62/100\n",
      "750/750 [==============================] - 0s 182us/sample - loss: 0.3146 - accuracy: 0.8560\n",
      "Epoch 63/100\n",
      "750/750 [==============================] - 0s 212us/sample - loss: 0.3123 - accuracy: 0.8587\n",
      "Epoch 64/100\n",
      "750/750 [==============================] - 0s 176us/sample - loss: 0.3103 - accuracy: 0.8613\n",
      "Epoch 65/100\n",
      "750/750 [==============================] - 0s 174us/sample - loss: 0.3083 - accuracy: 0.8640\n",
      "Epoch 66/100\n",
      "750/750 [==============================] - 0s 126us/sample - loss: 0.3064 - accuracy: 0.8640\n",
      "Epoch 67/100\n",
      "750/750 [==============================] - 0s 155us/sample - loss: 0.3044 - accuracy: 0.8653\n",
      "Epoch 68/100\n",
      "750/750 [==============================] - 0s 138us/sample - loss: 0.3027 - accuracy: 0.8667\n",
      "Epoch 69/100\n",
      "750/750 [==============================] - 0s 105us/sample - loss: 0.3009 - accuracy: 0.8680\n",
      "Epoch 70/100\n",
      "750/750 [==============================] - 0s 133us/sample - loss: 0.2993 - accuracy: 0.8693\n",
      "Epoch 71/100\n",
      "750/750 [==============================] - 0s 115us/sample - loss: 0.2977 - accuracy: 0.8693\n",
      "Epoch 72/100\n",
      "750/750 [==============================] - ETA: 0s - loss: 0.3040 - accuracy: 0.86 - 0s 144us/sample - loss: 0.2961 - accuracy: 0.8693\n",
      "Epoch 73/100\n",
      "750/750 [==============================] - 0s 175us/sample - loss: 0.2945 - accuracy: 0.8693\n",
      "Epoch 74/100\n",
      "750/750 [==============================] - 0s 130us/sample - loss: 0.2931 - accuracy: 0.8707\n",
      "Epoch 75/100\n",
      "750/750 [==============================] - 0s 181us/sample - loss: 0.2916 - accuracy: 0.8707\n",
      "Epoch 76/100\n",
      "750/750 [==============================] - 0s 127us/sample - loss: 0.2903 - accuracy: 0.8720\n",
      "Epoch 77/100\n",
      "750/750 [==============================] - 0s 140us/sample - loss: 0.2890 - accuracy: 0.8720\n",
      "Epoch 78/100\n"
     ]
    },
    {
     "name": "stdout",
     "output_type": "stream",
     "text": [
      "750/750 [==============================] - 0s 139us/sample - loss: 0.2878 - accuracy: 0.8733\n",
      "Epoch 79/100\n",
      "750/750 [==============================] - 0s 122us/sample - loss: 0.2865 - accuracy: 0.8733\n",
      "Epoch 80/100\n",
      "750/750 [==============================] - 0s 103us/sample - loss: 0.2854 - accuracy: 0.8733\n",
      "Epoch 81/100\n",
      "750/750 [==============================] - 0s 107us/sample - loss: 0.2843 - accuracy: 0.8733\n",
      "Epoch 82/100\n",
      "750/750 [==============================] - 0s 105us/sample - loss: 0.2832 - accuracy: 0.8733\n",
      "Epoch 83/100\n",
      "750/750 [==============================] - 0s 110us/sample - loss: 0.2822 - accuracy: 0.8733\n",
      "Epoch 84/100\n",
      "750/750 [==============================] - 0s 116us/sample - loss: 0.2811 - accuracy: 0.8733\n",
      "Epoch 85/100\n",
      "750/750 [==============================] - 0s 168us/sample - loss: 0.2803 - accuracy: 0.8733\n",
      "Epoch 86/100\n",
      "750/750 [==============================] - 0s 130us/sample - loss: 0.2793 - accuracy: 0.8747\n",
      "Epoch 87/100\n",
      "750/750 [==============================] - 0s 179us/sample - loss: 0.2784 - accuracy: 0.8773\n",
      "Epoch 88/100\n",
      "750/750 [==============================] - 0s 217us/sample - loss: 0.2775 - accuracy: 0.8787\n",
      "Epoch 89/100\n",
      "750/750 [==============================] - 0s 175us/sample - loss: 0.2767 - accuracy: 0.8800\n",
      "Epoch 90/100\n",
      "750/750 [==============================] - 0s 173us/sample - loss: 0.2759 - accuracy: 0.8813\n",
      "Epoch 91/100\n",
      "750/750 [==============================] - 0s 136us/sample - loss: 0.2751 - accuracy: 0.8813\n",
      "Epoch 92/100\n",
      "750/750 [==============================] - 0s 112us/sample - loss: 0.2744 - accuracy: 0.8827\n",
      "Epoch 93/100\n",
      "750/750 [==============================] - 0s 125us/sample - loss: 0.2737 - accuracy: 0.8840\n",
      "Epoch 94/100\n",
      "750/750 [==============================] - 0s 111us/sample - loss: 0.2730 - accuracy: 0.8840\n",
      "Epoch 95/100\n",
      "750/750 [==============================] - ETA: 0s - loss: 0.2792 - accuracy: 0.87 - 0s 107us/sample - loss: 0.2723 - accuracy: 0.8867\n",
      "Epoch 96/100\n",
      "750/750 [==============================] - 0s 113us/sample - loss: 0.2716 - accuracy: 0.8880\n",
      "Epoch 97/100\n",
      "750/750 [==============================] - 0s 206us/sample - loss: 0.2710 - accuracy: 0.8880\n",
      "Epoch 98/100\n",
      "750/750 [==============================] - 0s 192us/sample - loss: 0.2704 - accuracy: 0.8880\n",
      "Epoch 99/100\n",
      "750/750 [==============================] - 0s 214us/sample - loss: 0.2697 - accuracy: 0.8880\n",
      "Epoch 100/100\n",
      "750/750 [==============================] - 0s 194us/sample - loss: 0.2692 - accuracy: 0.8880\n"
     ]
    }
   ],
   "source": [
    "# Training the model with the nonlinear data\n",
    "model_moon = nn_model.fit(X_moon_train_scaled, y_moon_train, epochs=100, shuffle=True)"
   ]
  },
  {
   "cell_type": "markdown",
   "metadata": {},
   "source": [
    "In our example, TensorFlow stopped training the model after 84 epochs because the loss metric was no longer decreasing at a substantial rate, and the accuracy was not improving.\n",
    "\n",
    "Let’s plot out the loss and accuracy curves over our training iterations."
   ]
  },
  {
   "cell_type": "code",
   "execution_count": 19,
   "metadata": {},
   "outputs": [
    {
     "data": {
      "text/plain": [
       "<matplotlib.axes._subplots.AxesSubplot at 0x1a43cea150>"
      ]
     },
     "execution_count": 19,
     "metadata": {},
     "output_type": "execute_result"
    },
    {
     "data": {
      "image/png": "[encoded data removed]",
      "text/plain": [
       "<Figure size 432x288 with 1 Axes>"
      ]
     },
     "metadata": {
      "needs_background": "light"
     },
     "output_type": "display_data"
    }
   ],
   "source": [
    "# Create a DataFrame containing training history\n",
    "history_df = pd.DataFrame(model_moon.history, index=range(1,len(model_moon.history[\"loss\"])+1))\n",
    "\n",
    "# Plot the loss\n",
    "history_df.plot(y=\"loss\")"
   ]
  },
  {
   "cell_type": "code",
   "execution_count": 20,
   "metadata": {},
   "outputs": [
    {
     "data": {
      "text/plain": [
       "<matplotlib.axes._subplots.AxesSubplot at 0x1a43c38a10>"
      ]
     },
     "execution_count": 20,
     "metadata": {},
     "output_type": "execute_result"
    },
    {
     "data": {
      "image/png": "[encoded data removed]",
      "text/plain": [
       "<Figure size 432x288 with 1 Axes>"
      ]
     },
     "metadata": {
      "needs_background": "light"
     },
     "output_type": "display_data"
    }
   ],
   "source": [
    "# Plot the loss\n",
    "history_df.plot(y=\"accuracy\")"
   ]
  },
  {
   "cell_type": "markdown",
   "metadata": {},
   "source": [
    "According to the accuracy metric, the basic single-neuron, single-layer neural network model was only able to correctly classify 89% of all data points in the nonlinear training data. Depending on a person’s use case, 89% accuracy could be sufficient for a first-pass model. For example, if we were trying to use a neural network model to separate left-handed people from right-handed people, a model that is correct 89% of the time is very accurate, and guessing incorrectly does not have a huge negative impact.\n",
    "\n",
    "However, in many industrial and medical use cases, a model’s classification accuracy must exceed 95% or even 99%. In these cases, we wouldn’t be satisfied with the basic single-neuron, single-layer neural network model, and we would have to design a more robust neural network. In summary, the more complicated and nonlinear the dataset, the more components we’d need to add to a neural network to achieve our desired performance."
   ]
  },
  {
   "cell_type": "markdown",
   "metadata": {},
   "source": [
    "19.2.5\n",
    "\n",
    "A good rule of thumb for a basic neural network is to have two to three times the amount of neurons in the hidden layer as the number of inputs."
   ]
  },
  {
   "cell_type": "markdown",
   "metadata": {},
   "source": [
    "Applying the neuron rule of thumb, we should use a neural network model with six neurons in the hidden layer to properly model our linear and nonlinear datasets. Thankfully, designing a neural network with more layers is the exact same workflow as before, except we tweak a few parameters."
   ]
  },
  {
   "cell_type": "code",
   "execution_count": 21,
   "metadata": {},
   "outputs": [],
   "source": [
    "# Generate our new Sequential model\n",
    "new_model = tf.keras.models.Sequential()"
   ]
  },
  {
   "cell_type": "code",
   "execution_count": 22,
   "metadata": {},
   "outputs": [],
   "source": [
    "# Add the input and hidden layer\n",
    "number_inputs = 2\n",
    "number_hidden_nodes = 6\n",
    "\n",
    "new_model.add(tf.keras.layers.Dense(units=number_hidden_nodes, activation=\"relu\", input_dim=number_inputs))\n",
    "\n",
    "# Add the output layer that uses a probability activation function\n",
    "new_model.add(tf.keras.layers.Dense(units=1, activation=\"sigmoid\"))"
   ]
  },
  {
   "cell_type": "markdown",
   "metadata": {},
   "source": [
    "Now that our new Sequential model is defined, we need to compile and train the model using our nonlinear moon-shaped dummy data. For us to make direct comparisons with our single-neuron model, we’ll use the same training parameters, including loss metric, optimizer function, and number of epochs."
   ]
  },
  {
   "cell_type": "code",
   "execution_count": 23,
   "metadata": {},
   "outputs": [
    {
     "name": "stdout",
     "output_type": "stream",
     "text": [
      "Train on 750 samples\n",
      "Epoch 1/100\n",
      "750/750 [==============================] - 1s 2ms/sample - loss: 0.8023 - accuracy: 0.3240\n",
      "Epoch 2/100\n",
      "750/750 [==============================] - 0s 140us/sample - loss: 0.7408 - accuracy: 0.4240\n",
      "Epoch 3/100\n",
      "750/750 [==============================] - 0s 110us/sample - loss: 0.6852 - accuracy: 0.4693\n",
      "Epoch 4/100\n",
      "750/750 [==============================] - 0s 175us/sample - loss: 0.6368 - accuracy: 0.6467\n",
      "Epoch 5/100\n",
      "750/750 [==============================] - 0s 130us/sample - loss: 0.5929 - accuracy: 0.7693\n",
      "Epoch 6/100\n",
      "750/750 [==============================] - 0s 122us/sample - loss: 0.5551 - accuracy: 0.7787\n",
      "Epoch 7/100\n",
      "750/750 [==============================] - 0s 116us/sample - loss: 0.5218 - accuracy: 0.7853\n",
      "Epoch 8/100\n",
      "750/750 [==============================] - 0s 125us/sample - loss: 0.4924 - accuracy: 0.7947\n",
      "Epoch 9/100\n",
      "750/750 [==============================] - 0s 122us/sample - loss: 0.4667 - accuracy: 0.8027\n",
      "Epoch 10/100\n",
      "750/750 [==============================] - 0s 146us/sample - loss: 0.4443 - accuracy: 0.8120\n",
      "Epoch 11/100\n",
      "750/750 [==============================] - 0s 128us/sample - loss: 0.4246 - accuracy: 0.8173\n",
      "Epoch 12/100\n",
      "750/750 [==============================] - 0s 116us/sample - loss: 0.4074 - accuracy: 0.8187\n",
      "Epoch 13/100\n",
      "750/750 [==============================] - 0s 138us/sample - loss: 0.3922 - accuracy: 0.8227\n",
      "Epoch 14/100\n",
      "750/750 [==============================] - 0s 132us/sample - loss: 0.3786 - accuracy: 0.8267\n",
      "Epoch 15/100\n",
      "750/750 [==============================] - 0s 132us/sample - loss: 0.3667 - accuracy: 0.8333\n",
      "Epoch 16/100\n",
      "750/750 [==============================] - 0s 179us/sample - loss: 0.3558 - accuracy: 0.8373\n",
      "Epoch 17/100\n",
      "750/750 [==============================] - 0s 128us/sample - loss: 0.3461 - accuracy: 0.8387\n",
      "Epoch 18/100\n",
      "750/750 [==============================] - 0s 127us/sample - loss: 0.3373 - accuracy: 0.8480\n",
      "Epoch 19/100\n",
      "750/750 [==============================] - 0s 136us/sample - loss: 0.3291 - accuracy: 0.8520\n",
      "Epoch 20/100\n",
      "750/750 [==============================] - 0s 136us/sample - loss: 0.3219 - accuracy: 0.8587\n",
      "Epoch 21/100\n",
      "750/750 [==============================] - 0s 138us/sample - loss: 0.3151 - accuracy: 0.8640\n",
      "Epoch 22/100\n",
      "750/750 [==============================] - 0s 114us/sample - loss: 0.3089 - accuracy: 0.8667\n",
      "Epoch 23/100\n",
      "750/750 [==============================] - 0s 132us/sample - loss: 0.3033 - accuracy: 0.8680\n",
      "Epoch 24/100\n",
      "750/750 [==============================] - 0s 137us/sample - loss: 0.2981 - accuracy: 0.8707\n",
      "Epoch 25/100\n",
      "750/750 [==============================] - 0s 140us/sample - loss: 0.2933 - accuracy: 0.8720\n",
      "Epoch 26/100\n",
      "750/750 [==============================] - 0s 142us/sample - loss: 0.2891 - accuracy: 0.8787\n",
      "Epoch 27/100\n",
      "750/750 [==============================] - 0s 128us/sample - loss: 0.2852 - accuracy: 0.8800\n",
      "Epoch 28/100\n",
      "750/750 [==============================] - 0s 131us/sample - loss: 0.2816 - accuracy: 0.8813\n",
      "Epoch 29/100\n",
      "750/750 [==============================] - 0s 133us/sample - loss: 0.2783 - accuracy: 0.8827\n",
      "Epoch 30/100\n",
      "750/750 [==============================] - 0s 139us/sample - loss: 0.2753 - accuracy: 0.8867\n",
      "Epoch 31/100\n",
      "750/750 [==============================] - 0s 202us/sample - loss: 0.2725 - accuracy: 0.8867\n",
      "Epoch 32/100\n",
      "750/750 [==============================] - 0s 139us/sample - loss: 0.2700 - accuracy: 0.8867\n",
      "Epoch 33/100\n",
      "750/750 [==============================] - 0s 135us/sample - loss: 0.2675 - accuracy: 0.8880\n",
      "Epoch 34/100\n",
      "750/750 [==============================] - 0s 135us/sample - loss: 0.2652 - accuracy: 0.8907\n",
      "Epoch 35/100\n",
      "750/750 [==============================] - 0s 147us/sample - loss: 0.2630 - accuracy: 0.8907\n",
      "Epoch 36/100\n",
      "750/750 [==============================] - 0s 111us/sample - loss: 0.2609 - accuracy: 0.8920\n",
      "Epoch 37/100\n",
      "750/750 [==============================] - 0s 141us/sample - loss: 0.2591 - accuracy: 0.8920\n",
      "Epoch 38/100\n",
      "750/750 [==============================] - 0s 124us/sample - loss: 0.2571 - accuracy: 0.8920\n",
      "Epoch 39/100\n",
      "750/750 [==============================] - 0s 138us/sample - loss: 0.2553 - accuracy: 0.8893\n",
      "Epoch 40/100\n",
      "750/750 [==============================] - 0s 131us/sample - loss: 0.2538 - accuracy: 0.8907\n",
      "Epoch 41/100\n",
      "750/750 [==============================] - 0s 128us/sample - loss: 0.2520 - accuracy: 0.8907\n",
      "Epoch 42/100\n",
      "750/750 [==============================] - 0s 120us/sample - loss: 0.2505 - accuracy: 0.8907\n",
      "Epoch 43/100\n",
      "750/750 [==============================] - 0s 136us/sample - loss: 0.2489 - accuracy: 0.8907\n",
      "Epoch 44/100\n",
      "750/750 [==============================] - 0s 119us/sample - loss: 0.2475 - accuracy: 0.8920\n",
      "Epoch 45/100\n",
      "750/750 [==============================] - 0s 141us/sample - loss: 0.2464 - accuracy: 0.8933\n",
      "Epoch 46/100\n",
      "750/750 [==============================] - 0s 138us/sample - loss: 0.2450 - accuracy: 0.8920\n",
      "Epoch 47/100\n",
      "750/750 [==============================] - 0s 133us/sample - loss: 0.2437 - accuracy: 0.8920\n",
      "Epoch 48/100\n",
      "750/750 [==============================] - 0s 128us/sample - loss: 0.2424 - accuracy: 0.8933\n",
      "Epoch 49/100\n",
      "750/750 [==============================] - 0s 134us/sample - loss: 0.2413 - accuracy: 0.8933\n",
      "Epoch 50/100\n",
      "750/750 [==============================] - 0s 131us/sample - loss: 0.2401 - accuracy: 0.8947\n",
      "Epoch 51/100\n",
      "750/750 [==============================] - 0s 136us/sample - loss: 0.2390 - accuracy: 0.8947\n",
      "Epoch 52/100\n",
      "750/750 [==============================] - 0s 116us/sample - loss: 0.2380 - accuracy: 0.8947\n",
      "Epoch 53/100\n",
      "750/750 [==============================] - 0s 145us/sample - loss: 0.2368 - accuracy: 0.8960\n",
      "Epoch 54/100\n",
      "750/750 [==============================] - 0s 140us/sample - loss: 0.2358 - accuracy: 0.8973\n",
      "Epoch 55/100\n",
      "750/750 [==============================] - 0s 104us/sample - loss: 0.2347 - accuracy: 0.8987\n",
      "Epoch 56/100\n",
      "750/750 [==============================] - 0s 128us/sample - loss: 0.2338 - accuracy: 0.9000\n",
      "Epoch 57/100\n",
      "750/750 [==============================] - 0s 121us/sample - loss: 0.2325 - accuracy: 0.9000\n",
      "Epoch 58/100\n",
      "750/750 [==============================] - 0s 123us/sample - loss: 0.2316 - accuracy: 0.9013\n",
      "Epoch 59/100\n",
      "750/750 [==============================] - 0s 118us/sample - loss: 0.2306 - accuracy: 0.9027\n",
      "Epoch 60/100\n",
      "750/750 [==============================] - 0s 123us/sample - loss: 0.2299 - accuracy: 0.9040\n",
      "Epoch 61/100\n",
      "750/750 [==============================] - 0s 119us/sample - loss: 0.2288 - accuracy: 0.9053\n",
      "Epoch 62/100\n",
      "750/750 [==============================] - 0s 161us/sample - loss: 0.2280 - accuracy: 0.9053\n",
      "Epoch 63/100\n",
      "750/750 [==============================] - 0s 142us/sample - loss: 0.2272 - accuracy: 0.9053\n",
      "Epoch 64/100\n",
      "750/750 [==============================] - 0s 118us/sample - loss: 0.2263 - accuracy: 0.9053\n",
      "Epoch 65/100\n",
      "750/750 [==============================] - 0s 119us/sample - loss: 0.2255 - accuracy: 0.9053\n",
      "Epoch 66/100\n",
      "750/750 [==============================] - 0s 161us/sample - loss: 0.2246 - accuracy: 0.9053\n",
      "Epoch 67/100\n",
      "750/750 [==============================] - 0s 165us/sample - loss: 0.2239 - accuracy: 0.9053\n",
      "Epoch 68/100\n",
      "750/750 [==============================] - 0s 152us/sample - loss: 0.2230 - accuracy: 0.9053\n",
      "Epoch 69/100\n",
      "750/750 [==============================] - 0s 205us/sample - loss: 0.2221 - accuracy: 0.9080\n",
      "Epoch 70/100\n",
      "750/750 [==============================] - 0s 182us/sample - loss: 0.2214 - accuracy: 0.9093\n",
      "Epoch 71/100\n",
      "750/750 [==============================] - 0s 159us/sample - loss: 0.2207 - accuracy: 0.9093\n",
      "Epoch 72/100\n",
      "750/750 [==============================] - 0s 121us/sample - loss: 0.2197 - accuracy: 0.9093\n",
      "Epoch 73/100\n",
      "750/750 [==============================] - 0s 141us/sample - loss: 0.2189 - accuracy: 0.9107\n",
      "Epoch 74/100\n",
      "750/750 [==============================] - 0s 136us/sample - loss: 0.2181 - accuracy: 0.9107\n",
      "Epoch 75/100\n",
      "750/750 [==============================] - 0s 146us/sample - loss: 0.2172 - accuracy: 0.9120\n",
      "Epoch 76/100\n",
      "750/750 [==============================] - 0s 129us/sample - loss: 0.2163 - accuracy: 0.9120\n",
      "Epoch 77/100\n",
      "750/750 [==============================] - 0s 139us/sample - loss: 0.2155 - accuracy: 0.9120\n",
      "Epoch 78/100\n"
     ]
    },
    {
     "name": "stdout",
     "output_type": "stream",
     "text": [
      "750/750 [==============================] - 0s 158us/sample - loss: 0.2145 - accuracy: 0.9120\n",
      "Epoch 79/100\n",
      "750/750 [==============================] - 0s 167us/sample - loss: 0.2136 - accuracy: 0.9120\n",
      "Epoch 80/100\n",
      "750/750 [==============================] - 0s 142us/sample - loss: 0.2127 - accuracy: 0.9133\n",
      "Epoch 81/100\n",
      "750/750 [==============================] - 0s 121us/sample - loss: 0.2117 - accuracy: 0.9133\n",
      "Epoch 82/100\n",
      "750/750 [==============================] - 0s 146us/sample - loss: 0.2108 - accuracy: 0.9133\n",
      "Epoch 83/100\n",
      "750/750 [==============================] - 0s 153us/sample - loss: 0.2098 - accuracy: 0.9133\n",
      "Epoch 84/100\n",
      "750/750 [==============================] - 0s 136us/sample - loss: 0.2088 - accuracy: 0.9133\n",
      "Epoch 85/100\n",
      "750/750 [==============================] - 0s 143us/sample - loss: 0.2078 - accuracy: 0.9147\n",
      "Epoch 86/100\n",
      "750/750 [==============================] - 0s 134us/sample - loss: 0.2068 - accuracy: 0.9160\n",
      "Epoch 87/100\n",
      "750/750 [==============================] - 0s 124us/sample - loss: 0.2058 - accuracy: 0.9173\n",
      "Epoch 88/100\n",
      "750/750 [==============================] - 0s 147us/sample - loss: 0.2047 - accuracy: 0.9173\n",
      "Epoch 89/100\n",
      "750/750 [==============================] - 0s 133us/sample - loss: 0.2037 - accuracy: 0.9187\n",
      "Epoch 90/100\n",
      "750/750 [==============================] - 0s 133us/sample - loss: 0.2026 - accuracy: 0.9173\n",
      "Epoch 91/100\n",
      "750/750 [==============================] - 0s 151us/sample - loss: 0.2017 - accuracy: 0.9187\n",
      "Epoch 92/100\n",
      "750/750 [==============================] - 0s 187us/sample - loss: 0.2006 - accuracy: 0.9200\n",
      "Epoch 93/100\n",
      "750/750 [==============================] - 0s 153us/sample - loss: 0.1995 - accuracy: 0.9200\n",
      "Epoch 94/100\n",
      "750/750 [==============================] - 0s 150us/sample - loss: 0.1984 - accuracy: 0.9200\n",
      "Epoch 95/100\n",
      "750/750 [==============================] - 0s 148us/sample - loss: 0.1974 - accuracy: 0.9200\n",
      "Epoch 96/100\n",
      "750/750 [==============================] - 0s 182us/sample - loss: 0.1961 - accuracy: 0.9200\n",
      "Epoch 97/100\n",
      "750/750 [==============================] - 0s 153us/sample - loss: 0.1950 - accuracy: 0.9200\n",
      "Epoch 98/100\n",
      "750/750 [==============================] - 0s 141us/sample - loss: 0.1938 - accuracy: 0.9213\n",
      "Epoch 99/100\n",
      "750/750 [==============================] - 0s 163us/sample - loss: 0.1927 - accuracy: 0.9213\n",
      "Epoch 100/100\n",
      "750/750 [==============================] - 0s 147us/sample - loss: 0.1916 - accuracy: 0.9213\n"
     ]
    }
   ],
   "source": [
    "# Compile the Sequential model together and customize metrics\n",
    "new_model.compile(loss=\"binary_crossentropy\", optimizer=\"adam\", metrics=[\"accuracy\"])\n",
    "\n",
    "# Fit the model to the training data\n",
    "new_fit_model = new_model.fit(X_moon_train_scaled, y_moon_train, epochs=100, shuffle=True)"
   ]
  },
  {
   "cell_type": "markdown",
   "metadata": {},
   "source": [
    "19.2.6 - give your model a synaptic boost\n",
    "\n",
    "As with all machine learning algorithms, neural networks are not perfect and will often underperform using a basic implementation. When a neural network model does not meet performance expectations, it is usually due to one of two causes: inadequate or inappropriate model design for a given dataset, or insufficient or ineffective training data. Although collecting more training/test data is almost always beneficial, it may be impossible due to budget or logistical limitations. Therefore, the most straightforward means of improving neural network performance is tweaking the model design and parameters.\n",
    "\n",
    "When it comes to tweaking a neural network model, a little can go a long way. If we tweak too many design aspects and parameters at once, we can cause a model to become less effective without a means of understanding why. To avoid trapping ourselves in endless optimization iterations, we can use characteristics of our input data to determine what parameters should be changed.\n",
    "\n",
    "There are a few means of optimizing a neural network:\n",
    "\n",
    "Check out your input dataset.\n",
    "Add more neurons to a hidden layer.\n",
    "Add additional hidden layers.\n",
    "Use a different activation function for the hidden layers.\n",
    "Add additional epochs to the training regimen."
   ]
  },
  {
   "cell_type": "markdown",
   "metadata": {},
   "source": [
    "Instead of adding more neurons, we could change the structure of the model by adding additional hidden layers, which allows neurons to train on activated input values, instead of looking at new training data. Therefore, a neural network with multiple layers can identify nonlinear characteristics of the input data without requiring more input data.\n",
    "\n"
   ]
  },
  {
   "cell_type": "markdown",
   "metadata": {},
   "source": [
    "Another strategy to increase performance of a neural network is to change the activation function used across hidden layers. Depending on the shape and dimensionality of the input data, one activation function may focus on specific characteristics of the input values, while another activation function may focus on others."
   ]
  },
  {
   "cell_type": "markdown",
   "metadata": {},
   "source": [
    "It is important to use an activation function that matches the complexity of the input data. If we wanted to rank the four most-used activation functions by data complexity and ideal use case, the order would be as follows:\n",
    "\n",
    "The sigmoid function values are normalized to a probability between 0 and 1, which is ideal for binary classification.\n",
    "The tanh function can be used for classification or regression, and it expands the range between -1 and 1.\n",
    "The ReLU function is ideal for looking at positive nonlinear input data for classification or regression.\n",
    "The Leaky ReLU function is a good alternative for nonlinear input data with many negative inputs."
   ]
  },
  {
   "cell_type": "markdown",
   "metadata": {},
   "source": [
    "To experiment and optimize using an activation function, try selecting from activation functions that are slightly more complex than your current activation function. For example, if you were trying to build a regression neural network model using a wide input dataset, you might start with a tanh activation function. To optimize the regression model, try training with the ReLU activation function, or even the Leaky ReLU activation function. In most cases, it is better to try optimizing using a higher complexity activation function rather than a lower complexity activation function. Using a higher complexity activation function will assess the input data differently without any risk of censoring or ignoring lower complexity features.\n",
    "\n"
   ]
  },
  {
   "cell_type": "markdown",
   "metadata": {},
   "source": [
    "If your model still requires optimizations and tweaking to meet desired performance, you can increase the number of epochs, or training iterations. As the number of epochs increases, so does the amount of information provided to each neuron. By providing each neuron more information from the input data, the neurons are more likely to apply more effective weight coefficients. Adding more epochs to the training parameters is not a perfect solution—if the model produces weight coefficients that are too effective, there is an increased risk of model overfitting. Therefore, models should be tested and evaluated each time the number of epochs are increased to reduce the risk of overfitting.\n",
    "\n",
    "As with all machine learning models, creating an ideal classification or regression model is part mathematics and part art. As we design more and more models, optimizing and fine-tuning becomes less trial and error and more pattern recognition.\n",
    "\n"
   ]
  },
  {
   "cell_type": "markdown",
   "metadata": {},
   "source": []
  },
  {
   "cell_type": "markdown",
   "metadata": {},
   "source": []
  },
  {
   "cell_type": "code",
   "execution_count": null,
   "metadata": {},
   "outputs": [],
   "source": []
  }
 ],
 "metadata": {
  "kernelspec": {
   "display_name": "mlenv",
   "language": "python",
   "name": "mlenv"
  },
  "language_info": {
   "codemirror_mode": {
    "name": "ipython",
    "version": 3
   },
   "file_extension": ".py",
   "mimetype": "text/x-python",
   "name": "python",
   "nbconvert_exporter": "python",
   "pygments_lexer": "ipython3",
   "version": "3.7.7"
  }
 },
 "nbformat": 4,
 "nbformat_minor": 4
}
